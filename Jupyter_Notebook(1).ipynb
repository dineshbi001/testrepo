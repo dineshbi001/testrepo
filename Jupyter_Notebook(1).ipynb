{
 "cells": [
  {
   "cell_type": "markdown",
   "metadata": {},
   "source": [
    "<center>\n",
    "    <img src=\"https://s3-api.us-geo.objectstorage.softlayer.net/cf-courses-data/CognitiveClass/Logos/organization_logo/organization_logo.png\" width=\"300\" alt=\"cognitiveclass.ai logo\"  />\n",
    "</center>\n"
   ]
  },
  {
   "cell_type": "markdown",
   "metadata": {},
   "source": [
    "#### Add your code below following the instructions given in the course\n"
   ]
  },
  {
   "cell_type": "code",
   "execution_count": 1,
   "metadata": {},
   "outputs": [
    {
     "name": "stdout",
     "output_type": "stream",
     "text": [
      "My Jupyter Notebook on IBM Watson Studio\n"
     ]
    }
   ],
   "source": [
    "print(\"My Jupyter Notebook on IBM Watson Studio\")"
   ]
  },
  {
   "cell_type": "code",
   "execution_count": 2,
   "metadata": {},
   "outputs": [
    {
     "ename": "NameError",
     "evalue": "name 'bold' is not defined",
     "output_type": "error",
     "traceback": [
      "\u001b[0;31m---------------------------------------------------------------------------\u001b[0m",
      "\u001b[0;31mNameError\u001b[0m                                 Traceback (most recent call last)",
      "\u001b[0;32m/tmp/ipykernel_76/3211564472.py\u001b[0m in \u001b[0;36m<module>\u001b[0;34m\u001b[0m\n\u001b[0;32m----> 1\u001b[0;31m \u001b[0;32massert\u001b[0m \u001b[0mbold\u001b[0m\u001b[0;34m(\u001b[0m\u001b[0;34m\"My Jupyter Notebook on IBM Watson Studio\"\u001b[0m\u001b[0;34m)\u001b[0m\u001b[0;34m\u001b[0m\u001b[0;34m\u001b[0m\u001b[0m\n\u001b[0m",
      "\u001b[0;31mNameError\u001b[0m: name 'bold' is not defined"
     ]
    }
   ],
   "source": [
    "assert bold(\"My Jupyter Notebook on IBM Watson Studio\")"
   ]
  },
  {
   "cell_type": "code",
   "execution_count": 3,
   "metadata": {},
   "outputs": [
    {
     "name": "stdout",
     "output_type": "stream",
     "text": [
      " # My Jupyter Notebook on IBM Watson Studio\n"
     ]
    }
   ],
   "source": [
    "print(\" # My Jupyter Notebook on IBM Watson Studio\")"
   ]
  },
  {
   "cell_type": "code",
   "execution_count": 4,
   "metadata": {},
   "outputs": [
    {
     "ename": "SyntaxError",
     "evalue": "unexpected EOF while parsing (1651231163.py, line 1)",
     "output_type": "error",
     "traceback": [
      "\u001b[0;36m  File \u001b[0;32m\"/tmp/ipykernel_76/1651231163.py\"\u001b[0;36m, line \u001b[0;32m1\u001b[0m\n\u001b[0;31m    print(# \"My Jupyter Notebook on IBM Watson Studio\")\u001b[0m\n\u001b[0m                                                       ^\u001b[0m\n\u001b[0;31mSyntaxError\u001b[0m\u001b[0;31m:\u001b[0m unexpected EOF while parsing\n"
     ]
    }
   ],
   "source": [
    "print(# \"My Jupyter Notebook on IBM Watson Studio\")"
   ]
  },
  {
   "cell_type": "code",
   "execution_count": 5,
   "metadata": {},
   "outputs": [
    {
     "name": "stdout",
     "output_type": "stream",
     "text": [
      "My Jupyter Notebook on IBM Watson Studio\n"
     ]
    }
   ],
   "source": [
    "print(\"My Jupyter Notebook on IBM Watson Studio\")"
   ]
  },
  {
   "cell_type": "code",
   "execution_count": 7,
   "metadata": {},
   "outputs": [
    {
     "name": "stdout",
     "output_type": "stream",
     "text": [
      "Project: \u001b[1mMy Jupyter Notebook on IBM Watson Studio\u001b[0m\n"
     ]
    }
   ],
   "source": [
    "print(\"Project:\",'\\033[1m' + 'My Jupyter Notebook on IBM Watson Studio' + '\\033[0m')"
   ]
  },
  {
   "cell_type": "code",
   "execution_count": 8,
   "metadata": {},
   "outputs": [
    {
     "name": "stdout",
     "output_type": "stream",
     "text": [
      "\u001b[1;4mMy Jupyter Notebook on IBM Watson Studio\u001b[0m\n"
     ]
    }
   ],
   "source": [
    "print('\\033[1;4m' + 'My Jupyter Notebook on IBM Watson Studio' + '\\033[0m')"
   ]
  },
  {
   "cell_type": "code",
   "execution_count": 10,
   "metadata": {},
   "outputs": [
    {
     "name": "stdout",
     "output_type": "stream",
     "text": [
      "\u001b[3mData Scientist, I am interested in Data Science because I would love to contribute towards affordable and quality healthcare in the future.\u001b[0m\n"
     ]
    }
   ],
   "source": [
    "# Print Italic Text\n",
    "text = \"Data Scientist, I am interested in Data Science because I would love to contribute towards affordable and quality healthcare in the future.\"\n",
    "italic_text = \"\\x1B[3m\" + text + \"\\x1B[0m\"\n",
    "print(italic_text)"
   ]
  },
  {
   "cell_type": "code",
   "execution_count": 11,
   "metadata": {},
   "outputs": [
    {
     "name": "stdout",
     "output_type": "stream",
     "text": [
      "Data Scientist, I am interested in Data Science because I would love to contribute towards affordable and quality healthcare in the future. \u001b[3mitalic text\u001b[0m Data Scientist, I am interested in Data Science because I would love to contribute towards affordable and quality healthcare in the future.\n"
     ]
    }
   ],
   "source": [
    "print(\"Data Scientist, I am interested in Data Science because I would love to contribute towards affordable and quality healthcare in the future. \\x1B[3mitalic text\\x1B[0m Data Scientist, I am interested in Data Science because I would love to contribute towards affordable and quality healthcare in the future.\")"
   ]
  },
  {
   "cell_type": "code",
   "execution_count": 12,
   "metadata": {},
   "outputs": [
    {
     "ename": "SyntaxError",
     "evalue": "invalid syntax (506125379.py, line 1)",
     "output_type": "error",
     "traceback": [
      "\u001b[0;36m  File \u001b[0;32m\"/tmp/ipykernel_76/506125379.py\"\u001b[0;36m, line \u001b[0;32m1\u001b[0m\n\u001b[0;31m    print(''Data Scientist, I am interested in Data Science because I would love to contribute towards affordable and quality healthcare in the future.'')\u001b[0m\n\u001b[0m               ^\u001b[0m\n\u001b[0;31mSyntaxError\u001b[0m\u001b[0;31m:\u001b[0m invalid syntax\n"
     ]
    }
   ],
   "source": [
    "print(''Data Scientist, I am interested in Data Science because I would love to contribute towards affordable and quality healthcare in the future.'')"
   ]
  },
  {
   "cell_type": "code",
   "execution_count": null,
   "metadata": {},
   "outputs": [],
   "source": [
    "print(\" ''a''^2^ `+` ''b''^2^ `=` ''c''^2^\")"
   ]
  }
 ],
 "metadata": {
  "kernelspec": {
   "display_name": "Python",
   "language": "python",
   "name": "conda-env-python-py"
  },
  "language_info": {
   "codemirror_mode": {
    "name": "ipython",
    "version": 3
   },
   "file_extension": ".py",
   "mimetype": "text/x-python",
   "name": "python",
   "nbconvert_exporter": "python",
   "pygments_lexer": "ipython3",
   "version": "3.7.12"
  }
 },
 "nbformat": 4,
 "nbformat_minor": 4
}
